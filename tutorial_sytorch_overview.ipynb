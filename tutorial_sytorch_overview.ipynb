{
 "cells": [
  {
   "cell_type": "markdown",
   "metadata": {},
   "source": [
    "# `torch` vs `sytorch` \n",
    "\n",
    "In this tutorial we will compare the training/repair API of `torch` and\n",
    "`sytorch`. We consider a simple pointwise repair specification: `N(x) == x**2`\n",
    "for the input point `x = 2`."
   ]
  },
  {
   "cell_type": "code",
   "execution_count": 1,
   "metadata": {},
   "outputs": [],
   "source": [
    "import warnings; warnings.filterwarnings(\"ignore\")"
   ]
  },
  {
   "cell_type": "markdown",
   "metadata": {},
   "source": [
    "## Modules\n",
    "#### `torch`: define a module"
   ]
  },
  {
   "cell_type": "code",
   "execution_count": 2,
   "metadata": {},
   "outputs": [
    {
     "data": {
      "text/plain": [
       "Sequential(\n",
       "  (0): Linear(in_features=1, out_features=3, bias=True)\n",
       "  (1): ReLU()\n",
       "  (2): Linear(in_features=3, out_features=1, bias=True)\n",
       ")"
      ]
     },
     "execution_count": 2,
     "metadata": {},
     "output_type": "execute_result"
    }
   ],
   "source": [
    "import torch\n",
    "torch_model = torch.nn.Sequential(\n",
    "    torch.nn.Linear(1,3),\n",
    "    torch.nn.ReLU(),\n",
    "    torch.nn.Linear(3, 1)\n",
    ")\n",
    "torch_model"
   ]
  },
  {
   "cell_type": "markdown",
   "metadata": {},
   "source": [
    "#### `sytorch`: define a module"
   ]
  },
  {
   "cell_type": "code",
   "execution_count": 3,
   "metadata": {},
   "outputs": [
    {
     "data": {
      "text/plain": [
       "Sequential(\n",
       "  (0): Linear(in_features=1, out_features=3, bias=True)\n",
       "  (1): ReLU()\n",
       "  (2): Linear(in_features=3, out_features=1, bias=True)\n",
       ")"
      ]
     },
     "execution_count": 3,
     "metadata": {},
     "output_type": "execute_result"
    }
   ],
   "source": [
    "# sytorch: define a module. `sytorch` modules are subclasses of `torch.nn.Module`\n",
    "import sytorch as st\n",
    "sytorch_model = st.nn.Sequential(\n",
    "    st.nn.Linear(1,3),\n",
    "    st.nn.ReLU(),\n",
    "    st.nn.Linear(3, 1)\n",
    ")\n",
    "\n",
    "# Or you can convert a torch module to sytorch module.\n",
    "sytorch_model = st.nn.from_torch(torch_model)\n",
    "sytorch_model"
   ]
  },
  {
   "cell_type": "markdown",
   "metadata": {},
   "source": [
    "## Optimizer\n",
    "#### `torch`: define an optimizer and attach it to an model"
   ]
  },
  {
   "cell_type": "code",
   "execution_count": 4,
   "metadata": {},
   "outputs": [
    {
     "data": {
      "text/plain": [
       "Linear(in_features=3, out_features=1, bias=True)"
      ]
     },
     "execution_count": 4,
     "metadata": {},
     "output_type": "execute_result"
    }
   ],
   "source": [
    "# torch: define an SGD optimizer for parameters of `torch_model`.\n",
    "torch_optimizer = torch.optim.SGD(torch_model.parameters(), 1e-4)\n",
    "\n",
    "# torch: fine-grained controll of trainable parameters.\n",
    "torch_model.requires_grad_(False)\n",
    "torch_model[-1].requires_grad_()"
   ]
  },
  {
   "cell_type": "markdown",
   "metadata": {},
   "source": [
    "#### `sytorch`: define an optimizer and attach it to an model"
   ]
  },
  {
   "cell_type": "code",
   "execution_count": 5,
   "metadata": {},
   "outputs": [
    {
     "name": "stdout",
     "output_type": "stream",
     "text": [
      "Restricted license - for non-production use only - expires 2024-10-28\n",
      "Set parameter Crossover to value 0\n",
      "Set parameter Method to value 2\n",
      "Set parameter Threads to value 8\n",
      "Set parameter Presolve to value 1\n"
     ]
    },
    {
     "data": {
      "text/plain": [
       "Linear(in_features=3, out_features=1, bias=True)"
      ]
     },
     "execution_count": 5,
     "metadata": {},
     "output_type": "execute_result"
    }
   ],
   "source": [
    "# sytorch: define an Gurobi optimizer\n",
    "sytorch_optimizer = st.GurobiSolver()\n",
    "\n",
    "# sytorch: Attach the `sytorch_model` to the Gurobi optimizer.\n",
    "sytorch_model.to(sytorch_optimizer)\n",
    "\n",
    "# sytorch: fine-grained controll of ediable parameters.\n",
    "sytorch_model[-1].requires_symbolic_()"
   ]
  },
  {
   "cell_type": "markdown",
   "metadata": {},
   "source": [
    "## Execution modes"
   ]
  },
  {
   "cell_type": "code",
   "execution_count": 6,
   "metadata": {},
   "outputs": [
    {
     "data": {
      "text/plain": [
       "tensor([[0.7090, 0.0000, 0.6592]])"
      ]
     },
     "execution_count": 6,
     "metadata": {},
     "output_type": "execute_result"
    }
   ],
   "source": [
    "x = torch.as_tensor([[2.]])\n",
    "\n",
    "# torch: toggle training mode, it affects the behavior of layers like Dropout and BatchNorm.\n",
    "torch_model.train()\n",
    "\n",
    "# torch: zero gradients\n",
    "torch_model.zero_grad()\n",
    "\n",
    "# torch: forward execution\n",
    "y = torch_model(x)\n",
    "\n",
    "# torch: backward execution, compute gradient of the loss with respect to all\n",
    "#        the learnable parameters of the model.\n",
    "y.backward()\n",
    "\n",
    "# torch: print the gradients\n",
    "torch_model[-1].weight.grad"
   ]
  },
  {
   "cell_type": "code",
   "execution_count": 7,
   "metadata": {},
   "outputs": [],
   "source": [
    "# torch: `torch.no_grad()` disables the gradient computaiton.\n",
    "# with torch.no_grad():\n",
    "#     torch_model.train()\n",
    "#     torch_model.zero_grad()\n",
    "#     y = torch_model(x)\n",
    "#     y.backward()\n",
    "#     torch_model[-1].weight.grad"
   ]
  },
  {
   "cell_type": "markdown",
   "metadata": {},
   "source": [
    "#### `sytorch`: `repair` mode"
   ]
  },
  {
   "cell_type": "code",
   "execution_count": 8,
   "metadata": {},
   "outputs": [
    {
     "data": {
      "application/json": {
       "ascii": false,
       "bar_format": null,
       "colour": null,
       "elapsed": 0.008188962936401367,
       "initial": 0,
       "n": 0,
       "ncols": null,
       "nrows": null,
       "postfix": null,
       "prefix": "encoding",
       "rate": null,
       "total": 1,
       "unit": "it",
       "unit_divisor": 1000,
       "unit_scale": false
      },
      "application/vnd.jupyter.widget-view+json": {
       "model_id": "42ec29ae448d495e8b076e57fda94b98",
       "version_major": 2,
       "version_minor": 0
      },
      "text/plain": [
       "encoding:   0%|          | 0/1 [00:00<?, ?it/s]"
      ]
     },
     "metadata": {},
     "output_type": "display_data"
    },
    {
     "name": "stdout",
     "output_type": "stream",
     "text": [
      "[[<gurobi.Var C5>]]\n",
      "Minimize\n",
      "  0.0\n",
      "Subject To\n",
      "  R0: C0 = 0\n",
      "  R1: 0.9498160481452942 C1 + C4 + -1.0 C5 = 0\n",
      "Bounds\n",
      "  C0 free\n",
      "  C1 free\n",
      "  C2 free\n",
      "  C3 free\n",
      "  C4 free\n",
      "  C5 free\n"
     ]
    }
   ],
   "source": [
    "x = torch.randn(1,1)\n",
    "\n",
    "# sytorch: `.repair()` enables the symbolic execution mode.\n",
    "sytorch_model.repair()\n",
    "\n",
    "sy = sytorch_model(x)\n",
    "\n",
    "print(sy)\n",
    "sytorch_optimizer.print()"
   ]
  },
  {
   "cell_type": "code",
   "execution_count": 9,
   "metadata": {},
   "outputs": [
    {
     "name": "stdout",
     "output_type": "stream",
     "text": [
      "tensor([[-0.7021]], grad_fn=<AddmmBackward0>)\n"
     ]
    }
   ],
   "source": [
    "# sytorch: `.repair(False)` disables the symbolic execution mode.\n",
    "sytorch_model.repair(False)\n",
    "print(sytorch_model(x))"
   ]
  },
  {
   "cell_type": "code",
   "execution_count": 10,
   "metadata": {},
   "outputs": [
    {
     "name": "stdout",
     "output_type": "stream",
     "text": [
      "tensor([[-0.7021]], grad_fn=<AddmmBackward0>)\n"
     ]
    }
   ],
   "source": [
    "# sytorch: `st.no_symbolic()` creates a context that disables the symbolic execution mode.\n",
    "with st.no_symbolic():\n",
    "    print(sytorch_model(x))"
   ]
  },
  {
   "cell_type": "markdown",
   "metadata": {},
   "source": [
    "## Optimization\n",
    "Pointwise specification: $N(x) = x^2$"
   ]
  },
  {
   "cell_type": "code",
   "execution_count": 11,
   "metadata": {},
   "outputs": [],
   "source": [
    "# torch:\n",
    "criterion = torch.nn.MSELoss()\n",
    "y = torch_model(x)\n",
    "loss = criterion(y, x**2)\n",
    "loss.backward()"
   ]
  },
  {
   "cell_type": "code",
   "execution_count": 12,
   "metadata": {},
   "outputs": [],
   "source": [
    "# sytorch: add constraints: N(x) >= 0\n",
    "sytorch_optimizer.add_constraints(sy >= 0)\n",
    "\n",
    "# sytorch: add optimization objective: N(x) == x**2\n",
    "sytorch_optimizer.minimize(sy - x**2)"
   ]
  },
  {
   "cell_type": "markdown",
   "metadata": {},
   "source": [
    "## Model update"
   ]
  },
  {
   "cell_type": "code",
   "execution_count": 13,
   "metadata": {},
   "outputs": [],
   "source": [
    "# torch:\n",
    "torch_optimizer.step()"
   ]
  },
  {
   "cell_type": "code",
   "execution_count": 14,
   "metadata": {},
   "outputs": [
    {
     "name": "stdout",
     "output_type": "stream",
     "text": [
      "Gurobi Optimizer version 10.0.1 build v10.0.1rc0 (linux64)\n",
      "\n",
      "CPU model: Intel(R) Core(TM) i7-1065G7 CPU @ 1.30GHz, instruction set [SSE2|AVX|AVX2|AVX512]\n",
      "Thread count: 4 physical cores, 8 logical processors, using up to 8 threads\n",
      "\n",
      "Optimize a model with 4 rows, 7 columns and 7 nonzeros\n",
      "Model fingerprint: 0x1f5f0100\n",
      "Coefficient statistics:\n",
      "  Matrix range     [9e-01, 1e+00]\n",
      "  Objective range  [1e+00, 1e+00]\n",
      "  Bounds range     [0e+00, 0e+00]\n",
      "  RHS range        [2e-05, 2e-05]\n",
      "Presolve removed 4 rows and 7 columns\n",
      "Presolve time: 0.04s\n",
      "Presolve: All rows and columns removed\n",
      "\n",
      "Barrier solved model in 0 iterations and 0.04 seconds (0.00 work units)\n",
      "Optimal objective -2.33790561e-05\n"
     ]
    },
    {
     "data": {
      "text/plain": [
       "Sequential(\n",
       "  (0): Linear(in_features=1, out_features=3, bias=True)\n",
       "  (1): ReLU()\n",
       "  (2): Linear(in_features=3, out_features=1, bias=True)\n",
       ")"
      ]
     },
     "execution_count": 14,
     "metadata": {},
     "output_type": "execute_result"
    }
   ],
   "source": [
    "# sytorch:\n",
    "sytorch_optimizer.solve()\n",
    "sytorch_model.update_()"
   ]
  },
  {
   "cell_type": "markdown",
   "metadata": {},
   "source": [
    "## Evaluate Optimization Result"
   ]
  },
  {
   "cell_type": "code",
   "execution_count": 15,
   "metadata": {},
   "outputs": [
    {
     "name": "stdout",
     "output_type": "stream",
     "text": [
      "torch_model(x) == -0.70 < 0\n",
      "torch_model(x) - x**2 == -0.70\n"
     ]
    }
   ],
   "source": [
    "# torch: after one step of SGD\n",
    "with torch.no_grad():\n",
    "    print(f\"torch_model(x) == {torch_model(x).item():.2f} < 0\")\n",
    "    print(f\"torch_model(x) - x**2 == {(torch_model(x) - x**2).item():.2f}\")"
   ]
  },
  {
   "cell_type": "code",
   "execution_count": 16,
   "metadata": {},
   "outputs": [
    {
     "name": "stdout",
     "output_type": "stream",
     "text": [
      "sytorch_model(x) == 0.00 >= 0\n",
      "sytorch_model(x) - x**2 == -0.00\n"
     ]
    }
   ],
   "source": [
    "# sytorch: \n",
    "with torch.no_grad(), st.no_symbolic():\n",
    "    print(f\"sytorch_model(x) == {sytorch_model(x).item():.2f} >= 0\")\n",
    "    print(f\"sytorch_model(x) - x**2 == {(sytorch_model(x) - x**2).item():.2f}\")"
   ]
  },
  {
   "cell_type": "markdown",
   "metadata": {},
   "source": [
    "## Array/Tensor APIs"
   ]
  },
  {
   "cell_type": "code",
   "execution_count": 17,
   "metadata": {},
   "outputs": [
    {
     "data": {
      "text/plain": [
       "tensor([1, 0, 1])"
      ]
     },
     "execution_count": 17,
     "metadata": {},
     "output_type": "execute_result"
    }
   ],
   "source": [
    "# torch:\n",
    "a = torch.randn(3,4)\n",
    "b = torch.randn(4,2)\n",
    "(a @ b + 1).argmax(-1)"
   ]
  },
  {
   "cell_type": "code",
   "execution_count": 18,
   "metadata": {},
   "outputs": [
    {
     "data": {
      "text/plain": [
       "ArgMaxEncoder([[<gurobi.LinExpr: 1.0 + -0.6095733046531677 C7 + -1.1738548278808594 C8 + -1.1657414436340332 C9 + -1.9638018608093262 C10>,\n",
       "                <gurobi.LinExpr: 1.0 + 0.6273224949836731 C7 + -1.8662066459655762 C8 + -1.3796387910842896 C9 + 1.6790162324905396 C10>],\n",
       "               [<gurobi.LinExpr: 1.0 + -0.6095733046531677 C11 + -1.1738548278808594 C12 + -1.1657414436340332 C13 + -1.9638018608093262 C14>,\n",
       "                <gurobi.LinExpr: 1.0 + 0.6273224949836731 C11 + -1.8662066459655762 C12 + -1.3796387910842896 C13 + 1.6790162324905396 C14>],\n",
       "               [<gurobi.LinExpr: 1.0 + -0.6095733046531677 C15 + -1.1738548278808594 C16 + -1.1657414436340332 C17 + -1.9638018608093262 C18>,\n",
       "                <gurobi.LinExpr: 1.0 + 0.6273224949836731 C15 + -1.8662066459655762 C16 + -1.3796387910842896 C17 + 1.6790162324905396 C18>]],\n",
       "              dtype=object)"
      ]
     },
     "execution_count": 18,
     "metadata": {},
     "output_type": "execute_result"
    }
   ],
   "source": [
    "# sytorch: create numpy array of variables\n",
    "a = sytorch_optimizer.reals((3,4))\n",
    "b = torch.randn(4,2)\n",
    "(a @ b + 1).argmax(-1)"
   ]
  }
 ],
 "metadata": {
  "kernelspec": {
   "display_name": "pldi24-tutorial",
   "language": "python",
   "name": "python3"
  },
  "language_info": {
   "codemirror_mode": {
    "name": "ipython",
    "version": 3
   },
   "file_extension": ".py",
   "mimetype": "text/x-python",
   "name": "python",
   "nbconvert_exporter": "python",
   "pygments_lexer": "ipython3",
   "version": "3.9.-1"
  }
 },
 "nbformat": 4,
 "nbformat_minor": 2
}
