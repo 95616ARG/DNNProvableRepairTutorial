{
 "cells": [
  {
   "cell_type": "markdown",
   "metadata": {},
   "source": [
    "Provable *Polytope* Repair of MNIST DNNs\n",
    "========================================"
   ]
  },
  {
   "cell_type": "code",
   "execution_count": 1,
   "metadata": {},
   "outputs": [],
   "source": [
    "# !pip install -r requirements.txt --index-url https://download.pytorch.org/whl/cu113\n",
    "import warnings; warnings.filterwarnings(\"ignore\")\n",
    "import os, sys; sys.path.insert(0, os.getcwd())\n",
    "import torch\n",
    "\n",
    "device = torch.device('cuda:0') if torch.cuda.is_available() else torch.device('cpu')\n",
    "dtype = torch.float64"
   ]
  },
  {
   "cell_type": "markdown",
   "metadata": {},
   "source": [
    "### Load a MNIST pytorch model"
   ]
  },
  {
   "cell_type": "code",
   "execution_count": 2,
   "metadata": {},
   "outputs": [],
   "source": [
    "from experiments import mnist\n",
    "model = mnist.model('9x100').to(device,dtype).eval()"
   ]
  },
  {
   "cell_type": "markdown",
   "metadata": {},
   "source": [
    "### Construct repair set from the MNIST-C dataset."
   ]
  },
  {
   "cell_type": "code",
   "execution_count": 3,
   "metadata": {},
   "outputs": [
    {
     "name": "stdout",
     "output_type": "stream",
     "text": [
      "image_polytopes (1, 7, 784): 1 polytope(s) of 7 vertices.\n",
      "Expected labels: tensor([8, 8, 8, 8, 8, 8, 8])\n",
      "Misclassified as: tensor([5, 5, 5, 5, 5, 8, 8])\n"
     ]
    },
    {
     "data": {
      "image/png": "[encoded data removed]",
      "text/plain": [
       "<Figure size 1850x1050 with 1 Axes>"
      ]
     },
     "metadata": {},
     "output_type": "display_data"
    }
   ],
   "source": [
    "from experiments import mnist\n",
    "import numpy as np\n",
    "\n",
    "# Load the MNIST-C dataset.\n",
    "mnist_c = mnist.datasets.MNIST_C(corruption='fog', split='test').reshape(784).to(device,dtype)\n",
    "\n",
    "# Find all misclassified images from MNIST-C with label `8`.\n",
    "_, misclassified_dataset = mnist_c.filter_label(8).misclassified(model)\n",
    "\n",
    "# Construct the polytope repair set by rotate each misclassified image with [-30, -20, -10, 0, 10, 20, 30] degrees.\n",
    "# An input polytope is represented as its seven vertices of the rotated images.\n",
    "rotation_dataset = misclassified_dataset.rotate(degs=np.linspace(-30., 30., 7), scale=1.).to(device,dtype)\n",
    "\n",
    "# Check an input polytope.\n",
    "image_polytopes, labels = rotation_dataset.load(1)\n",
    "print(f\"image_polytopes {tuple(image_polytopes.shape)}: {image_polytopes.shape[0]} polytope(s) of {image_polytopes.shape[1]} vertices.\")\n",
    "print(\"Expected labels:\", labels.flatten().long())\n",
    "print(\"Misclassified as:\", model(image_polytopes[0].to(device,dtype)).argmax(-1).cpu())\n",
    "mnist.imshow(image_polytopes, degs=rotation_dataset.degs)"
   ]
  },
  {
   "cell_type": "markdown",
   "metadata": {},
   "source": [
    "##"
   ]
  },
  {
   "cell_type": "code",
   "execution_count": 4,
   "metadata": {},
   "outputs": [
    {
     "name": "stdout",
     "output_type": "stream",
     "text": [
      "Set parameter Username\n",
      "Academic license - for non-commercial use only - expires 2025-02-28\n",
      "Set parameter Crossover to value 0\n",
      "Set parameter Method to value 2\n",
      "Set parameter Threads to value 32\n",
      "Set parameter Presolve to value 1\n"
     ]
    },
    {
     "name": "stderr",
     "output_type": "stream",
     "text": [
      "                                                 \r"
     ]
    },
    {
     "name": "stdout",
     "output_type": "stream",
     "text": [
      "Gurobi Optimizer version 11.0.0 build v11.0.0rc2 (linux64 - \"Ubuntu 22.04.2 LTS\")\n",
      "\n",
      "CPU model: Intel(R) Core(TM) i9-9960X CPU @ 3.10GHz, instruction set [SSE2|AVX|AVX2|AVX512]\n",
      "Thread count: 16 physical cores, 32 logical processors, using up to 32 threads\n",
      "\n",
      "Optimize a model with 339725 rows, 249114 columns and 2144040 nonzeros\n",
      "Model fingerprint: 0x8348704d\n",
      "Coefficient statistics:\n",
      "  Matrix range     [6e-06, 4e+00]\n",
      "  Objective range  [1e+00, 1e+00]\n",
      "  Bounds range     [0e+00, 0e+00]\n",
      "  RHS range        [1e-06, 6e-01]\n",
      "Presolve removed 241042 rows and 86352 columns\n",
      "Presolve time: 0.93s\n",
      "Presolved: 98683 rows, 162762 columns, 1657406 nonzeros\n",
      "Ordering time: 1.28s\n",
      "\n",
      "Barrier statistics:\n",
      " Dense cols : 1\n",
      " Free vars  : 8701\n",
      " AA' NZ     : 1.695e+06\n",
      " Factor NZ  : 1.004e+07 (roughly 200 MB of memory)\n",
      " Factor Ops : 9.618e+09 (less than 1 second per iteration)\n",
      " Threads    : 32\n",
      "\n",
      "                  Objective                Residual\n",
      "Iter       Primal          Dual         Primal    Dual     Compl     Time\n",
      "   0   1.99968235e+01 -1.91539082e-03  2.98e+02 3.20e+01  4.86e+00     3s\n",
      "   1   1.38858943e+03  3.66963888e-03  6.69e+01 1.94e+01  3.57e+00     3s\n",
      "   2   2.13503632e+03  1.61209493e-03  3.93e-01 2.48e-01  2.22e+00     3s\n",
      "   3   1.14424518e+01  9.54284452e-04  4.10e-04 6.99e-02  1.72e-02     3s\n",
      "   4   6.08634875e+00  7.50152394e-04  1.85e-04 4.05e-02  8.38e-03     3s\n",
      "   5   5.55791628e+00  6.93594131e-04  1.66e-04 3.18e-02  7.27e-03     3s\n",
      "   6   3.48546422e+00  4.31511625e-04  1.01e-04 1.61e-02  4.15e-03     4s\n",
      "   7   2.18069993e+00  8.35132908e-05  5.95e-05 8.68e-03  2.46e-03     4s\n",
      "   8   1.57533039e+00 -1.29738852e-04  4.16e-05 5.87e-03  1.74e-03     4s\n",
      "   9   1.14962475e+00 -5.66253645e-04  2.94e-05 2.81e-03  1.23e-03     4s\n",
      "  10   6.58847301e-01 -1.23838067e-03  1.58e-05 1.04e-03  6.92e-04     4s\n",
      "  11   3.58124227e-01 -1.41170909e-03  8.12e-06 2.69e-04  3.73e-04     4s\n",
      "  12   1.64831789e-01 -8.91854132e-04  3.71e-06 9.34e-05  1.71e-04     4s\n",
      "  13   1.24018083e-01 -4.68643717e-04  2.77e-06 5.50e-05  1.28e-04     4s\n",
      "  14   9.05108462e-02  4.78055550e-05  7.41e-06 3.52e-05  9.33e-05     4s\n",
      "  15   6.90907925e-02  8.63939402e-04  5.49e-06 2.03e-05  7.04e-05     5s\n",
      "  16   4.92256588e-02  1.73630512e-03  4.09e-06 1.58e-05  4.90e-05     5s\n",
      "  17   4.30794155e-02  3.25591940e-03  3.52e-06 9.73e-06  4.11e-05     5s\n",
      "  18   3.57789442e-02  4.44241728e-03  2.41e-05 7.72e-06  3.23e-05     5s\n",
      "  19   3.17295511e-02  6.08025098e-03  1.99e-05 6.32e-06  2.64e-05     5s\n",
      "  20   2.86019049e-02  8.04115540e-03  1.63e-05 4.93e-06  2.12e-05     6s\n",
      "  21   2.74941491e-02  8.81320375e-03  1.50e-05 4.40e-06  1.93e-05     6s\n",
      "  22   2.52332186e-02  1.08566500e-02  1.22e-05 3.04e-06  1.48e-05     6s\n",
      "  23   2.24192464e-02  1.21253351e-02  8.70e-06 2.13e-06  1.06e-05     6s\n",
      "  24   2.17342526e-02  1.26361668e-02  1.79e-05 1.72e-06  9.38e-06     6s\n",
      "  25   2.05471405e-02  1.32868197e-02  1.48e-05 1.19e-06  7.48e-06     6s\n",
      "  26   1.84200761e-02  1.36465522e-02  9.22e-06 8.27e-07  4.92e-06     7s\n",
      "  27   1.72785277e-02  1.40001536e-02  6.50e-06 5.17e-07  3.38e-06     7s\n",
      "  28   1.65094158e-02  1.41914964e-02  4.91e-06 3.41e-07  2.39e-06     7s\n",
      "  29   1.59859440e-02  1.43238565e-02  3.41e-06 2.15e-07  1.71e-06     7s\n",
      "  30   1.56903480e-02  1.43984240e-02  2.87e-06 1.40e-07  1.33e-06     7s\n",
      "  31   1.53763205e-02  1.44390608e-02  2.08e-06 1.00e-07  9.66e-07     7s\n",
      "  32   1.52247249e-02  1.44591770e-02  1.58e-06 7.66e-08  7.89e-07     8s\n",
      "  33   1.50936247e-02  1.44981424e-02  1.62e-06 7.63e-08  6.14e-07     8s\n",
      "  34   1.48052307e-02  1.45204305e-02  7.61e-07 7.88e-08  2.93e-07     8s\n",
      "  35   1.46833833e-02  1.45353107e-02  4.24e-07 5.78e-08  1.53e-07     8s\n",
      "  36   1.46535518e-02  1.45437617e-02  5.28e-07 5.23e-08  1.13e-07     8s\n",
      "  37   1.46203746e-02  1.45457794e-02  3.68e-07 6.97e-08  7.69e-08     8s\n",
      "  38   1.46024052e-02  1.45465918e-02  3.66e-07 3.98e-08  5.75e-08     8s\n",
      "  39   1.45772213e-02  1.45470707e-02  2.07e-07 3.95e-08  3.11e-08     8s\n",
      "  40   1.45744545e-02  1.45474383e-02  1.73e-07 3.30e-08  2.78e-08     9s\n",
      "  41   1.45700244e-02  1.45477575e-02  1.65e-07 2.64e-08  2.29e-08     9s\n",
      "  42   1.45600843e-02  1.45479650e-02  3.52e-07 2.72e-08  1.25e-08     9s\n",
      "  43   1.45574177e-02  1.45485487e-02  2.63e-07 1.60e-08  9.14e-09     9s\n",
      "  44   1.45529889e-02  1.45486347e-02  1.30e-07 1.40e-08  4.49e-09     9s\n",
      "  45   1.45504257e-02  1.45486825e-02  4.61e-08 7.65e-09  1.80e-09     9s\n",
      "  46   1.45494621e-02  1.45486987e-02  3.27e-08 4.16e-09  7.86e-10     9s\n",
      "  47   1.45487465e-02  1.45486987e-02  1.62e-07 1.44e-09  4.92e-11     9s\n",
      "  48   1.45487130e-02  1.45487117e-02  2.05e-09 1.30e-09  1.30e-12    10s\n",
      "\n",
      "Barrier solved model in 48 iterations and 9.59 seconds (10.26 work units)\n",
      "Optimal objective 1.45487130e-02\n",
      "\n"
     ]
    }
   ],
   "source": [
    "import sytorch as st\n",
    "\n",
    "image_polytopes = image_polytopes.to(device,dtype)\n",
    "\n",
    "# We use an the Gurobi LP solver as the optimizer.\n",
    "optimizer = st.GurobiSolver().verbose_()\n",
    "\n",
    "# Attach the model to the optimizer\n",
    "model.to(optimizer)\n",
    "\n",
    "# Make the first layer weight and all-layer bias editable.\n",
    "model.requires_symbolic_weight_and_bias()\n",
    "\n",
    "# Toggle the symbolic-execution mode.\n",
    "model.repair()\n",
    "\n",
    "# Encode the symbolic output vpolytope, such that all vertices are in the same linear region.\n",
    "symbolic_output_vpolytopes = model.v(image_polytopes)\n",
    "\n",
    "# Prepare objectives: parameter detla.\n",
    "param_delta = model.parameter_deltas()\n",
    "\n",
    "# Prepare objectives: output delta.\n",
    "with st.no_symbolic():\n",
    "    original_output_vpolytopes = model.v(image_polytopes)\n",
    "output_delta = (symbolic_output_vpolytopes - original_output_vpolytopes).reshape(-1)\n",
    "\n",
    "delta = param_delta.norm_ub('linf+l1_normalized') + output_delta.norm_ub('linf+l1_normalized')\n",
    "\n",
    "# Find optimal parameters that satisfies the repair specification.\n",
    "assert optimizer.solve(\n",
    "    # Add the output constraint.\n",
    "    symbolic_output_vpolytopes.argmax(-1) == labels, \n",
    "    \n",
    "    # Specify the minimization objective.\n",
    "    minimize=delta\n",
    ")\n",
    "\n",
    "# Update the model with the optimal parameters that satisfies the repair specification.\n",
    "repaired_model = model.update_().eval()\n"
   ]
  },
  {
   "cell_type": "markdown",
   "metadata": {},
   "source": [
    "### Evaluate efficacy of the  repaired model"
   ]
  },
  {
   "cell_type": "code",
   "execution_count": 5,
   "metadata": {},
   "outputs": [
    {
     "name": "stdout",
     "output_type": "stream",
     "text": [
      "image_polytopes (1, 7, 784): 1 polytope(s) of 7 vertices.\n",
      "Expected labels: tensor([8, 8, 8, 8, 8, 8, 8])\n",
      "Prediction after repair: tensor([8, 8, 8, 8, 8, 8, 8])\n"
     ]
    },
    {
     "data": {
      "image/png": "[encoded data removed]",
      "text/plain": [
       "<Figure size 1850x1050 with 1 Axes>"
      ]
     },
     "metadata": {},
     "output_type": "display_data"
    }
   ],
   "source": [
    "image_polytopes, labels = rotation_dataset.load(1)\n",
    "print(f\"image_polytopes {tuple(image_polytopes.shape)}: {image_polytopes.shape[0]} polytope(s) of {image_polytopes.shape[1]} vertices.\")\n",
    "print(\"Expected labels:\", labels.flatten().long())\n",
    "print(\"Prediction after repair:\", repaired_model(image_polytopes[0].to(device,dtype)).argmax(-1).cpu())\n",
    "mnist.imshow(image_polytopes, degs=rotation_dataset.degs)"
   ]
  },
  {
   "cell_type": "markdown",
   "metadata": {},
   "source": [
    "### Evaluate accuracy of the  repaired model"
   ]
  },
  {
   "cell_type": "code",
   "execution_count": 6,
   "metadata": {},
   "outputs": [
    {
     "name": "stderr",
     "output_type": "stream",
     "text": [
      "                                                                 "
     ]
    },
    {
     "name": "stdout",
     "output_type": "stream",
     "text": [
      "APRNN Drawdown: 95.08% -> 95.23% (-0.15%).\n"
     ]
    },
    {
     "name": "stderr",
     "output_type": "stream",
     "text": [
      "\r"
     ]
    }
   ],
   "source": [
    "testset = mnist.datasets.Dataset('identity', 'test').reshape(784).to(device,dtype)\n",
    "\n",
    "original_model = mnist.model('9x100').to(device,dtype).eval()\n",
    "acc0 = testset.accuracy(original_model)\n",
    "acc1 = testset.accuracy(repaired_model)\n",
    "drawdown = acc0 - acc1\n",
    "print(f\"APRNN Drawdown: {acc0:.2%} -> {acc1:.2%} ({'+' if drawdown > 0 else ''}{drawdown:.2%}).\")\n"
   ]
  }
 ],
 "metadata": {
  "kernelspec": {
   "display_name": "pldi24-tutorial",
   "language": "python",
   "name": "python3"
  },
  "language_info": {
   "codemirror_mode": {
    "name": "ipython",
    "version": 3
   },
   "file_extension": ".py",
   "mimetype": "text/x-python",
   "name": "python",
   "nbconvert_exporter": "python",
   "pygments_lexer": "ipython3",
   "version": "3.9.18"
  }
 },
 "nbformat": 4,
 "nbformat_minor": 2
}
