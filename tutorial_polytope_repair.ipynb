{
 "cells": [
  {
   "cell_type": "markdown",
   "metadata": {},
   "source": [
    "### Interactive Playground: Provable Polytope Repair"
   ]
  },
  {
   "cell_type": "code",
   "execution_count": 1,
   "metadata": {},
   "outputs": [
    {
     "data": {
      "application/vnd.jupyter.widget-view+json": {
       "model_id": "158559157f574ea6a863fa55e413dd2d",
       "version_major": 2,
       "version_minor": 0
      },
      "text/plain": [
       "HBox(children=(VBox(children=(FloatSlider(value=-1.5, description='x1', max=4.0, min=-2.0), FloatSlider(value=…"
      ]
     },
     "metadata": {},
     "output_type": "display_data"
    },
    {
     "data": {
      "application/vnd.jupyter.widget-view+json": {
       "model_id": "31d207aec58247d8a3c2a5837240e234",
       "version_major": 2,
       "version_minor": 0
      },
      "text/plain": [
       "Output(layout=Layout(height='800px'))"
      ]
     },
     "metadata": {},
     "output_type": "display_data"
    }
   ],
   "source": [
    "import warnings; warnings.filterwarnings(\"ignore\")\n",
    "from tutorial_helpers import *\n",
    "\n",
    "@interact_polytope_repair_with\n",
    "def polytope_repair(N, x1, x2, lb, ub, ap):\n",
    "    \"\"\" Given a DNN `N`, a 1-d input polytope [x1, x2] defined by the endpoints\n",
    "        `x1` and `x2`, and the output bound [lb, ub], find new parameters `\\theta'`\n",
    "        for `N` such that `\\forall x \\in [x1, x2]. N(x; \\theta') \\in [lb, ub]`\n",
    "        while minimizing the changes to `N`. \n",
    "\n",
    "    Args:\n",
    "        N (nn.Module): the network to repair. \n",
    "        x1, x2 (float): endpoints of the 1-d input polytope to repair. \n",
    "        lb, ub (float): the output bound. \n",
    "        ap (np.ndarray[bool]): the activation pattern of ReLU layers.\n",
    "\n",
    "    Returns:\n",
    "        Repaired network `N` if feasible, otherwies `None`. \n",
    "    \"\"\"\n",
    "    endpoints = torch.tensor([x1, x2])[:,None]\n",
    "\n",
    "    # Use Gurobi as the optimizer.\n",
    "    optimizer = st.GurobiSolver().verbose_(False)\n",
    "\n",
    "    # Attach `N` to the optimizer and enables the repair mode.\n",
    "    N.to(optimizer).repair()\n",
    "\n",
    "    # Make the first layer weight and all-layer's bias to be editable.\n",
    "    N.requires_symbolic_weight_and_bias()\n",
    "\n",
    "    # Encode the symbolic output for the input endpoints with the same activation pattern `ap`.\n",
    "    symbolic_output = N(endpoints, pattern=ap)\n",
    "\n",
    "    # Define and solve the LP problem.\n",
    "    succeed =  optimizer.solve(\n",
    "        # add the output constraints\n",
    "        lb <= symbolic_output, symbolic_output <= ub,\n",
    "        \n",
    "        # specify the optimization objective \n",
    "        minimize = N.delta(endpoints)\n",
    "    )\n",
    "\n",
    "    # Check if feasible.\n",
    "    if not succeed:\n",
    "        print(\"Infeasible!\")\n",
    "        return None\n",
    "    \n",
    "    # Update `N` with the optimal parameters.\n",
    "    N.update_().eval()\n",
    "\n",
    "    # Return the repaired network.\n",
    "    return N"
   ]
  }
 ],
 "metadata": {
  "kernelspec": {
   "display_name": "pldi24-tutorial",
   "language": "python",
   "name": "python3"
  },
  "language_info": {
   "codemirror_mode": {
    "name": "ipython",
    "version": 3
   },
   "file_extension": ".py",
   "mimetype": "text/x-python",
   "name": "python",
   "nbconvert_exporter": "python",
   "pygments_lexer": "ipython3",
   "version": "3.9.18"
  }
 },
 "nbformat": 4,
 "nbformat_minor": 2
}
